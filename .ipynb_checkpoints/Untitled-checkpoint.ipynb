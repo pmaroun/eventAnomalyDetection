{
 "cells": [
  {
   "cell_type": "markdown",
   "metadata": {},
   "source": [
    "# Exploring Event Data for Anomaly Detection"
   ]
  },
  {
   "cell_type": "markdown",
   "metadata": {},
   "source": [
    "http://datascience.stackexchange.com/questions/6547/open-source-anomaly-detection-in-python\n",
    "\n",
    "http://machinelearningmastery.com/time-series-data-visualization-with-python/\n",
    "    "
   ]
  },
  {
   "cell_type": "code",
   "execution_count": 1,
   "metadata": {
    "collapsed": true
   },
   "outputs": [],
   "source": [
    "from azure.storage.table import TableService, Entity\n",
    "import getpass\n",
    "import os\n",
    "import sys\n",
    "import csv\n",
    "import numpy as np"
   ]
  },
  {
   "cell_type": "markdown",
   "metadata": {},
   "source": [
    "## Loads event data from Azure table storage.\n",
    "Event data is spanned across multiple tables based on severity.  Since we are only analyzing one event at a time, we \n",
    "must indicate the tableName and eventId"
   ]
  },
  {
   "cell_type": "code",
   "execution_count": 2,
   "metadata": {
    "collapsed": false
   },
   "outputs": [],
   "source": [
    "def getEventIds(accountName, key, tableName, dateFloor, eventId):\n",
    "    table_service = TableService(account_name=accountName, account_key=key)\n",
    "\n",
    "    fileName = current_dir + '/eventId_' + eventId + '.csv'\n",
    "    \n",
    "    entities=table_service.query_entities(tableName,\n",
    "                                          \"PartitionKey ge '\" + dateFloor + \"' and EventId eq \" + eventId, \n",
    "                                          select=\"PartitionKey, EventId\")\n",
    "    count = 0\n",
    "    with open(fileName, 'w+') as csvfile:\n",
    "        eventWriter = csv.writer(csvfile, delimiter=' ',\n",
    "                        quotechar='|', quoting=csv.QUOTE_MINIMAL)\n",
    "        for entity in entities:\n",
    "            count+=1\n",
    "            eventWriter.writerow([entity.PartitionKey, entity.EventId.value])\n",
    "    \n",
    "    print \"Saved \" + count + \" lines to \" + fileName \n"
   ]
  },
  {
   "cell_type": "code",
   "execution_count": 3,
   "metadata": {
    "collapsed": false
   },
   "outputs": [
    {
     "name": "stdout",
     "output_type": "stream",
     "text": [
      "········\n"
     ]
    }
   ],
   "source": [
    "current_dir = os.getcwd()\n",
    "\n",
    "key = getpass.getpass()\n",
    "\n",
    "\"\"\"\n",
    "accountName = 'serviceshubproduswlog'\n",
    "dateFloor = '20170322'\n",
    "eventId = '108' \n",
    "tableName = 'PremierHubInformation'\n",
    "\"\"\"\n",
    "\n",
    "accountName = 'profileserviceproduswlog'\n",
    "dateFloor = '20170101'\n",
    "eventId = '89' \n",
    "tableName = 'SironaInformation'\n",
    "\n",
    "##getEventIds(accountName, key, tableName, dateFloor, eventId)\n"
   ]
  },
  {
   "cell_type": "markdown",
   "metadata": {},
   "source": [
    "## Take a look at the top few imported rows of data"
   ]
  },
  {
   "cell_type": "code",
   "execution_count": 4,
   "metadata": {
    "collapsed": false
   },
   "outputs": [
    {
     "name": "stdout",
     "output_type": "stream",
     "text": [
      "  PartitionKey EventId\n",
      "0     20170103      89\n",
      "1     20170103      89\n",
      "2     20170103      89\n",
      "3     20170103      89\n",
      "4     20170104      89\n"
     ]
    }
   ],
   "source": [
    "import pandas as pd\n",
    "from matplotlib import pyplot\n",
    "\n",
    "fileName = current_dir + \"/events.csv\"\n",
    "\n",
    "events = pd.read_csv(fileName, delim_whitespace=True, dtype={'PartitionKey': object, 'EventId': object}, names = [\"PartitionKey\", \"EventId\"])\n",
    "print(events.head())"
   ]
  },
  {
   "cell_type": "markdown",
   "metadata": {},
   "source": [
    "## Generate date range for every day since first event"
   ]
  },
  {
   "cell_type": "code",
   "execution_count": 5,
   "metadata": {
    "collapsed": false
   },
   "outputs": [
    {
     "name": "stdout",
     "output_type": "stream",
     "text": [
      "(93, 2)\n",
      "[['20170103' 4]\n",
      " ['20170104' 1]\n",
      " ['20170105' 6]\n",
      " ['20170106' 1]\n",
      " ['20170107' 0]\n",
      " ['20170108' 0]\n",
      " ['20170109' 0]\n",
      " ['20170110' 0]\n",
      " ['20170111' 0]\n",
      " ['20170112' 0]\n",
      " ['20170113' 0]\n",
      " ['20170114' 0]\n",
      " ['20170115' 0]\n",
      " ['20170116' 0]\n",
      " ['20170117' 1]\n",
      " ['20170118' 0]\n",
      " ['20170119' 4]\n",
      " ['20170120' 2]\n",
      " ['20170121' 0]\n",
      " ['20170122' 0]\n",
      " ['20170123' 7]\n",
      " ['20170124' 78]\n",
      " ['20170125' 6]\n",
      " ['20170126' 56]\n",
      " ['20170127' 1]\n",
      " ['20170128' 0]\n",
      " ['20170129' 0]\n",
      " ['20170130' 20]\n",
      " ['20170131' 44]\n",
      " ['20170201' 31]\n",
      " ['20170202' 55]\n",
      " ['20170203' 53]\n",
      " ['20170204' 0]\n",
      " ['20170205' 0]\n",
      " ['20170206' 10]\n",
      " ['20170207' 3]\n",
      " ['20170208' 17]\n",
      " ['20170209' 25]\n",
      " ['20170210' 11]\n",
      " ['20170211' 1]\n",
      " ['20170212' 0]\n",
      " ['20170213' 12]\n",
      " ['20170214' 16]\n",
      " ['20170215' 4]\n",
      " ['20170216' 85]\n",
      " ['20170217' 140]\n",
      " ['20170218' 0]\n",
      " ['20170219' 0]\n",
      " ['20170220' 1]\n",
      " ['20170221' 3]\n",
      " ['20170222' 4]\n",
      " ['20170223' 0]\n",
      " ['20170224' 89]\n",
      " ['20170225' 0]\n",
      " ['20170226' 24]\n",
      " ['20170227' 46]\n",
      " ['20170228' 1]\n",
      " ['20170301' 1]\n",
      " ['20170302' 47]\n",
      " ['20170303' 1]\n",
      " ['20170304' 0]\n",
      " ['20170305' 0]\n",
      " ['20170306' 13]\n",
      " ['20170307' 92]\n",
      " ['20170308' 3]\n",
      " ['20170309' 0]\n",
      " ['20170310' 0]\n",
      " ['20170311' 0]\n",
      " ['20170312' 0]\n",
      " ['20170313' 0]\n",
      " ['20170314' 0]\n",
      " ['20170315' 0]\n",
      " ['20170316' 0]\n",
      " ['20170317' 0]\n",
      " ['20170318' 0]\n",
      " ['20170319' 0]\n",
      " ['20170320' 0]\n",
      " ['20170321' 0]\n",
      " ['20170322' 0]\n",
      " ['20170323' 0]\n",
      " ['20170324' 0]\n",
      " ['20170325' 0]\n",
      " ['20170326' 0]\n",
      " ['20170327' 0]\n",
      " ['20170328' 0]\n",
      " ['20170329' 0]\n",
      " ['20170330' 0]\n",
      " ['20170331' 0]\n",
      " ['20170401' 0]\n",
      " ['20170402' 0]\n",
      " ['20170403' 0]\n",
      " ['20170404' 0]\n",
      " ['20170405' 0]]\n"
     ]
    }
   ],
   "source": [
    "import datetime as datetime\n",
    "\n",
    "def daterange(start_date, end_date):\n",
    "    for n in range(int ((end_date - start_date).days)):\n",
    "        yield start_date + datetime.timedelta(n)\n",
    "\n",
    "end_date = datetime.date.today()\n",
    "start = events['PartitionKey'][0]\n",
    "start_date = datetime.date(int(start[0:4]), int(start[4:6]), int(start[6:8]))\n",
    "\n",
    "partition_range = []\n",
    "for single_date in daterange(start_date, end_date):\n",
    "    partition_range.append(single_date.strftime('%Y%m%d')) \n",
    "\n",
    "partition_array = np.zeros((len(partition_range), 2), dtype=object)\n",
    "print(partition_array.shape)\n",
    "\n",
    "eventsByDay = events.groupby(['PartitionKey'])\n",
    "\n",
    "partition_array[:,0] = partition_range[:]\n",
    "\n",
    "for x, y in eventsByDay.PartitionKey:\n",
    "    partition_array[np.where(partition_array==x)[0],1] = y.count()\n",
    "\n",
    "print partition_array\n"
   ]
  },
  {
   "cell_type": "code",
   "execution_count": 10,
   "metadata": {
    "collapsed": false
   },
   "outputs": [
    {
     "data": {
      "image/png": "[encoded data removed]",
      "text/plain": [
       "<matplotlib.figure.Figure at 0x7f09cd8e7410>"
      ]
     },
     "metadata": {},
     "output_type": "display_data"
    }
   ],
   "source": [
    "from matplotlib import pyplot as plt\n",
    "\n",
    "plt.plot(partition_array[:,1])\n",
    "plt.title('events by day')\n",
    "plt.ylabel('events')\n",
    "plt.xlabel('day')\n",
    "plt.grid(True)\n",
    "plt.show()\n"
   ]
  },
  {
   "cell_type": "code",
   "execution_count": null,
   "metadata": {
    "collapsed": true
   },
   "outputs": [],
   "source": []
  }
 ],
 "metadata": {
  "kernelspec": {
   "display_name": "Python [conda root]",
   "language": "python",
   "name": "conda-root-py"
  },
  "language_info": {
   "codemirror_mode": {
    "name": "ipython",
    "version": 2
   },
   "file_extension": ".py",
   "mimetype": "text/x-python",
   "name": "python",
   "nbconvert_exporter": "python",
   "pygments_lexer": "ipython2",
   "version": "2.7.13"
  }
 },
 "nbformat": 4,
 "nbformat_minor": 2
}
