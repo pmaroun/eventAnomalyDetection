{
 "cells": [
  {
   "cell_type": "markdown",
   "metadata": {},
   "source": [
    "# Exploring Event Data for Anomaly Detection"
   ]
  },
  {
   "cell_type": "markdown",
   "metadata": {},
   "source": [
    "http://datascience.stackexchange.com/questions/6547/open-source-anomaly-detection-in-python\n",
    "\n",
    "http://machinelearningmastery.com/time-series-data-visualization-with-python/\n",
    "    "
   ]
  },
  {
   "cell_type": "code",
   "execution_count": 1,
   "metadata": {
    "collapsed": true
   },
   "outputs": [],
   "source": [
    "from azure.storage.table import TableService, Entity\n",
    "import getpass\n",
    "import os\n",
    "import sys\n",
    "import csv"
   ]
  },
  {
   "cell_type": "markdown",
   "metadata": {},
   "source": [
    "## Loads event data from Azure table storage.\n",
    "Event data is spanned across multiple tables based on severity.  Since we are only analyzing one event at a time, we \n",
    "must indicate the tableName and eventId"
   ]
  },
  {
   "cell_type": "code",
   "execution_count": 9,
   "metadata": {
    "collapsed": false
   },
   "outputs": [],
   "source": [
    "def getEventIds(accountName, key, tableName, dateFloor, eventId):\n",
    "    table_service = TableService(account_name=accountName, account_key=key)\n",
    "\n",
    "    fileName = current_dir + '/eventId_' + eventId + '.csv'\n",
    "    \n",
    "    entities=table_service.query_entities(tableName,\n",
    "                                          \"PartitionKey ge '\" + dateFloor + \"' and EventId eq \" + eventId, \n",
    "                                          select=\"PartitionKey, EventId\")\n",
    "    count = 0\n",
    "    with open(fileName, 'w+') as csvfile:\n",
    "        eventWriter = csv.writer(csvfile, delimiter=' ',\n",
    "                        quotechar='|', quoting=csv.QUOTE_MINIMAL)\n",
    "        for entity in entities:\n",
    "            count+=1\n",
    "            eventWriter.writerow([entity.PartitionKey, entity.EventId.value])\n",
    "    \n",
    "    print \"Saved \" + count + \" lines to \" + fileName \n"
   ]
  },
  {
   "cell_type": "code",
   "execution_count": 12,
   "metadata": {
    "collapsed": false
   },
   "outputs": [
    {
     "name": "stdout",
     "output_type": "stream",
     "text": [
      "/home/pmaroun/source/EventAnomolyDetection\n",
      "········\n",
      "1019\n"
     ]
    }
   ],
   "source": [
    "current_dir = os.getcwd()\n",
    "\n",
    "key = getpass.getpass()\n",
    "\n",
    "\"\"\"\n",
    "accountName = 'serviceshubproduswlog'\n",
    "dateFloor = '20170322'\n",
    "eventId = '108' \n",
    "tableName = 'PremierHubInformation'\n",
    "\"\"\"\n",
    "\n",
    "accountName = 'profileserviceproduswlog'\n",
    "dateFloor = '20170101'\n",
    "eventId = '89' \n",
    "tableName = 'SironaInformation'\n",
    "\n",
    "getEventIds(accountName, key, tableName, dateFloor, eventId)\n"
   ]
  },
  {
   "cell_type": "markdown",
   "metadata": {},
   "source": [
    "## Take a look at the top few imported rows of data"
   ]
  },
  {
   "cell_type": "code",
   "execution_count": 26,
   "metadata": {
    "collapsed": false
   },
   "outputs": [
    {
     "name": "stdout",
     "output_type": "stream",
     "text": [
      "   PartitionKey  EventId\n",
      "0      20170103       89\n",
      "1      20170103       89\n",
      "2      20170103       89\n",
      "3      20170103       89\n",
      "4      20170104       89\n"
     ]
    }
   ],
   "source": [
    "import pandas as pd\n",
    "from matplotlib import pyplot\n",
    "\n",
    "fileName = current_dir + \"/events.csv\"\n",
    "\n",
    "events = pd.read_csv(fileName, delim_whitespace=True, names = [\"PartitionKey\", \"EventId\"])\n",
    "print(events.head())"
   ]
  },
  {
   "cell_type": "markdown",
   "metadata": {},
   "source": [
    "## Generate date range for every day since first event"
   ]
  },
  {
   "cell_type": "code",
   "execution_count": 42,
   "metadata": {
    "collapsed": false
   },
   "outputs": [
    {
     "name": "stdout",
     "output_type": "stream",
     "text": [
      "20170325\n"
     ]
    },
    {
     "ename": "TypeError",
     "evalue": "strptime() argument 1 must be string, not numpy.int64",
     "output_type": "error",
     "traceback": [
      "\u001b[0;31m---------------------------------------------------------------------------\u001b[0m",
      "\u001b[0;31mTypeError\u001b[0m                                 Traceback (most recent call last)",
      "\u001b[0;32m<ipython-input-42-a3acf0e41d48>\u001b[0m in \u001b[0;36m<module>\u001b[0;34m()\u001b[0m\n\u001b[1;32m      4\u001b[0m \u001b[0mfirst_day\u001b[0m \u001b[0;34m=\u001b[0m \u001b[0mevents\u001b[0m\u001b[0;34m[\u001b[0m\u001b[0;34m'PartitionKey'\u001b[0m\u001b[0;34m]\u001b[0m\u001b[0;34m[\u001b[0m\u001b[0;36m0\u001b[0m\u001b[0;34m]\u001b[0m\u001b[0;34m\u001b[0m\u001b[0m\n\u001b[1;32m      5\u001b[0m \u001b[0;34m\u001b[0m\u001b[0m\n\u001b[0;32m----> 6\u001b[0;31m \u001b[0mdatetime_object\u001b[0m \u001b[0;34m=\u001b[0m \u001b[0mdatetime\u001b[0m\u001b[0;34m.\u001b[0m\u001b[0mdatetime\u001b[0m\u001b[0;34m.\u001b[0m\u001b[0mstrptime\u001b[0m\u001b[0;34m(\u001b[0m\u001b[0mfirst_day\u001b[0m\u001b[0;34m,\u001b[0m \u001b[0;34m'%Y%m%d'\u001b[0m\u001b[0;34m)\u001b[0m\u001b[0;34m\u001b[0m\u001b[0m\n\u001b[0m\u001b[1;32m      7\u001b[0m \u001b[0;32mprint\u001b[0m \u001b[0mdatetime_object\u001b[0m\u001b[0;34m\u001b[0m\u001b[0m\n\u001b[1;32m      8\u001b[0m \u001b[0;34m\u001b[0m\u001b[0m\n",
      "\u001b[0;31mTypeError\u001b[0m: strptime() argument 1 must be string, not numpy.int64"
     ]
    }
   ],
   "source": [
    "import datetime as datetime\n",
    "today = datetime.date.today().strftime('%Y%m%d')\n",
    "print today\n",
    "first_day = events['PartitionKey'][0]\n",
    "\n",
    "#datetime_object = datetime.datetime.strptime(first_day, '%Y%m%d')\n",
    "#print datetime_object\n",
    "                                    \n",
    "#numdays = 100\n",
    "#date_list = [base - datetime.timedelta(days=x) for x in range(0, numdays)]\n",
    "#print date_list"
   ]
  },
  {
   "cell_type": "code",
   "execution_count": 30,
   "metadata": {
    "collapsed": false
   },
   "outputs": [
    {
     "name": "stdout",
     "output_type": "stream",
     "text": [
      "              EventId\n",
      "PartitionKey         \n",
      "20170103            4\n",
      "20170104            1\n",
      "20170105            6\n",
      "20170106            1\n",
      "20170117            1\n",
      "20170119            4\n",
      "20170120            2\n",
      "20170123            7\n",
      "20170124           78\n",
      "20170125            6\n",
      "20170126           56\n",
      "20170127            1\n",
      "20170130           20\n",
      "20170131           44\n",
      "20170201           31\n",
      "20170202           55\n",
      "20170203           53\n",
      "20170206           10\n",
      "20170207            3\n",
      "20170208           17\n",
      "20170209           25\n",
      "20170210           11\n",
      "20170211            1\n",
      "20170213           12\n",
      "20170214           16\n",
      "20170215            4\n",
      "20170216           85\n",
      "20170217          140\n",
      "20170220            1\n",
      "20170221            3\n",
      "20170222            4\n",
      "20170224           89\n",
      "20170226           24\n",
      "20170227           46\n",
      "20170228            1\n",
      "20170301            1\n",
      "20170302           47\n",
      "20170303            1\n",
      "20170306           13\n",
      "20170307           92\n",
      "20170308            3\n"
     ]
    },
    {
     "data": {
      "image/png": "[encoded data removed]",
      "text/plain": [
       "<matplotlib.figure.Figure at 0x7f1bbf764f90>"
      ]
     },
     "metadata": {},
     "output_type": "display_data"
    }
   ],
   "source": [
    "from matplotlib import pyplot\n",
    "eventsByDay = events.groupby(['PartitionKey']).count()\n",
    "print eventsByDay\n",
    "eventsByDay.plot()\n",
    "pyplot.show()\n"
   ]
  },
  {
   "cell_type": "code",
   "execution_count": null,
   "metadata": {
    "collapsed": true
   },
   "outputs": [],
   "source": []
  }
 ],
 "metadata": {
  "kernelspec": {
   "display_name": "Python [conda root]",
   "language": "python",
   "name": "conda-root-py"
  },
  "language_info": {
   "codemirror_mode": {
    "name": "ipython",
    "version": 2
   },
   "file_extension": ".py",
   "mimetype": "text/x-python",
   "name": "python",
   "nbconvert_exporter": "python",
   "pygments_lexer": "ipython2",
   "version": "2.7.13"
  }
 },
 "nbformat": 4,
 "nbformat_minor": 2
}
