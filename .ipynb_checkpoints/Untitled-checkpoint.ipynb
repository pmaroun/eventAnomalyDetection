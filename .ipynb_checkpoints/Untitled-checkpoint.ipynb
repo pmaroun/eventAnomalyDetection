{
 "cells": [
  {
   "cell_type": "markdown",
   "metadata": {},
   "source": [
    "# Exploring Event Data for Anomaly Detection"
   ]
  },
  {
   "cell_type": "markdown",
   "metadata": {},
   "source": [
    "http://datascience.stackexchange.com/questions/6547/open-source-anomaly-detection-in-python\n",
    "\n",
    "http://machinelearningmastery.com/time-series-data-visualization-with-python/\n",
    "    "
   ]
  },
  {
   "cell_type": "code",
   "execution_count": 33,
   "metadata": {
    "collapsed": true
   },
   "outputs": [],
   "source": [
    "from azure.storage.table import TableService, Entity\n",
    "import getpass\n",
    "import os\n",
    "import sys\n",
    "import csv\n",
    "import numpy as np"
   ]
  },
  {
   "cell_type": "markdown",
   "metadata": {},
   "source": [
    "## Loads event data from Azure table storage.\n",
    "Event data is spanned across multiple tables based on severity.  Since we are only analyzing one event at a time, we \n",
    "must indicate the tableName and eventId"
   ]
  },
  {
   "cell_type": "code",
   "execution_count": 9,
   "metadata": {
    "collapsed": false
   },
   "outputs": [],
   "source": [
    "def getEventIds(accountName, key, tableName, dateFloor, eventId):\n",
    "    table_service = TableService(account_name=accountName, account_key=key)\n",
    "\n",
    "    fileName = current_dir + '/eventId_' + eventId + '.csv'\n",
    "    \n",
    "    entities=table_service.query_entities(tableName,\n",
    "                                          \"PartitionKey ge '\" + dateFloor + \"' and EventId eq \" + eventId, \n",
    "                                          select=\"PartitionKey, EventId\")\n",
    "    count = 0\n",
    "    with open(fileName, 'w+') as csvfile:\n",
    "        eventWriter = csv.writer(csvfile, delimiter=' ',\n",
    "                        quotechar='|', quoting=csv.QUOTE_MINIMAL)\n",
    "        for entity in entities:\n",
    "            count+=1\n",
    "            eventWriter.writerow([entity.PartitionKey, entity.EventId.value])\n",
    "    \n",
    "    print \"Saved \" + count + \" lines to \" + fileName \n"
   ]
  },
  {
   "cell_type": "code",
   "execution_count": 3,
   "metadata": {
    "collapsed": false
   },
   "outputs": [
    {
     "name": "stdout",
     "output_type": "stream",
     "text": [
      "········\n"
     ]
    }
   ],
   "source": [
    "current_dir = os.getcwd()\n",
    "\n",
    "key = getpass.getpass()\n",
    "\n",
    "\"\"\"\n",
    "accountName = 'serviceshubproduswlog'\n",
    "dateFloor = '20170322'\n",
    "eventId = '108' \n",
    "tableName = 'PremierHubInformation'\n",
    "\"\"\"\n",
    "\n",
    "accountName = 'profileserviceproduswlog'\n",
    "dateFloor = '20170101'\n",
    "eventId = '89' \n",
    "tableName = 'SironaInformation'\n",
    "\n",
    "##getEventIds(accountName, key, tableName, dateFloor, eventId)\n"
   ]
  },
  {
   "cell_type": "markdown",
   "metadata": {},
   "source": [
    "## Take a look at the top few imported rows of data"
   ]
  },
  {
   "cell_type": "code",
   "execution_count": 13,
   "metadata": {
    "collapsed": false
   },
   "outputs": [
    {
     "name": "stdout",
     "output_type": "stream",
     "text": [
      "  PartitionKey EventId\n",
      "0     20170103      89\n",
      "1     20170103      89\n",
      "2     20170103      89\n",
      "3     20170103      89\n",
      "4     20170104      89\n"
     ]
    }
   ],
   "source": [
    "import pandas as pd\n",
    "from matplotlib import pyplot\n",
    "\n",
    "fileName = current_dir + \"/events.csv\"\n",
    "\n",
    "events = pd.read_csv(fileName, delim_whitespace=True, dtype={'PartitionKey': object, 'EventId': object}, names = [\"PartitionKey\", \"EventId\"])\n",
    "print(events.head())"
   ]
  },
  {
   "cell_type": "markdown",
   "metadata": {},
   "source": [
    "## Generate date range for every day since first event"
   ]
  },
  {
   "cell_type": "code",
   "execution_count": 66,
   "metadata": {
    "collapsed": false
   },
   "outputs": [
    {
     "name": "stdout",
     "output_type": "stream",
     "text": [
      "(92, 2)\n"
     ]
    },
    {
     "ename": "ValueError",
     "evalue": "could not broadcast input array from shape (1019) into shape (92)",
     "output_type": "error",
     "traceback": [
      "\u001b[0;31m---------------------------------------------------------------------------\u001b[0m",
      "\u001b[0;31mValueError\u001b[0m                                Traceback (most recent call last)",
      "\u001b[0;32m<ipython-input-66-5675ec14b595>\u001b[0m in \u001b[0;36m<module>\u001b[0;34m()\u001b[0m\n\u001b[1;32m     23\u001b[0m \u001b[0mmask\u001b[0m \u001b[0;34m=\u001b[0m \u001b[0;34m(\u001b[0m\u001b[0mevents\u001b[0m\u001b[0;34m[\u001b[0m\u001b[0;34m'EventId'\u001b[0m\u001b[0;34m]\u001b[0m \u001b[0;34m!=\u001b[0m \u001b[0;36m0\u001b[0m\u001b[0;34m)\u001b[0m\u001b[0;34m\u001b[0m\u001b[0m\n\u001b[1;32m     24\u001b[0m \u001b[0mr2\u001b[0m\u001b[0;34m[\u001b[0m\u001b[0;34m:\u001b[0m\u001b[0;34m,\u001b[0m\u001b[0;36m0\u001b[0m\u001b[0;34m]\u001b[0m \u001b[0;34m=\u001b[0m \u001b[0mpartition_range\u001b[0m\u001b[0;34m[\u001b[0m\u001b[0;34m:\u001b[0m\u001b[0;34m]\u001b[0m\u001b[0;34m\u001b[0m\u001b[0m\n\u001b[0;32m---> 25\u001b[0;31m \u001b[0mr2\u001b[0m\u001b[0;34m[\u001b[0m\u001b[0;34m:\u001b[0m\u001b[0;34m,\u001b[0m\u001b[0;36m1\u001b[0m\u001b[0;34m]\u001b[0m \u001b[0;34m=\u001b[0m \u001b[0mevents\u001b[0m\u001b[0;34m[\u001b[0m\u001b[0;34m'EventId'\u001b[0m\u001b[0;34m]\u001b[0m\u001b[0;34m[\u001b[0m\u001b[0mmask\u001b[0m\u001b[0;34m]\u001b[0m\u001b[0;34m\u001b[0m\u001b[0m\n\u001b[0m\u001b[1;32m     26\u001b[0m \u001b[0;32mprint\u001b[0m \u001b[0mr2\u001b[0m\u001b[0;34m\u001b[0m\u001b[0m\n",
      "\u001b[0;31mValueError\u001b[0m: could not broadcast input array from shape (1019) into shape (92)"
     ]
    }
   ],
   "source": [
    "import datetime as datetime\n",
    "\n",
    "def daterange(start_date, end_date):\n",
    "    for n in range(int ((end_date - start_date).days)):\n",
    "        yield start_date + timedelta(n)\n",
    "\n",
    "end_date = datetime.date.today()\n",
    "start = events['PartitionKey'][0]\n",
    "start_date = datetime.date(int(start[0:4]), int(start[4:6]), int(start[6:8]))\n",
    "\n",
    "partition_range = []\n",
    "for single_date in daterange(start_date, end_date):\n",
    "    partition_range.append(single_date.strftime('%Y%m%d')) \n",
    "\n",
    "#partition_array = np.array(partition_range)\n",
    "partition_array = np.zeros((len(partition_range), 2), dtype=object)\n",
    "print(partition_array.shape)\n",
    "partition_array[:,0] = partition_range[:]\n",
    "#print partition_array\n",
    "\n",
    "\n",
    "r2 = np.ones((len(partition_range), 2), dtype=object)\n",
    "mask = (events['EventId'] != 0)\n",
    "r2[:,0] = partition_range[:]\n",
    "r2[:,1] = events['EventId'][mask]\n",
    "print r2"
   ]
  },
  {
   "cell_type": "code",
   "execution_count": 45,
   "metadata": {
    "collapsed": false
   },
   "outputs": [
    {
     "name": "stderr",
     "output_type": "stream",
     "text": [
      "/home/pmaroun/anaconda2/lib/python2.7/site-packages/ipykernel/__main__.py:1: VisibleDeprecationWarning: non integer (and non boolean) array-likes will not be accepted as indices in the future\n",
      "  if __name__ == '__main__':\n"
     ]
    },
    {
     "ename": "IndexError",
     "evalue": "index 20170103 is out of bounds for axis 1 with size 92",
     "output_type": "error",
     "traceback": [
      "\u001b[0;31m---------------------------------------------------------------------------\u001b[0m",
      "\u001b[0;31mIndexError\u001b[0m                                Traceback (most recent call last)",
      "\u001b[0;32m<ipython-input-45-32fc0189115c>\u001b[0m in \u001b[0;36m<module>\u001b[0;34m()\u001b[0m\n\u001b[0;32m----> 1\u001b[0;31m \u001b[0;32mprint\u001b[0m \u001b[0;34m(\u001b[0m\u001b[0mpartition_array\u001b[0m\u001b[0;34m[\u001b[0m\u001b[0mevents\u001b[0m\u001b[0;34m[\u001b[0m\u001b[0;34m'PartitionKey'\u001b[0m\u001b[0;34m]\u001b[0m\u001b[0;34m]\u001b[0m\u001b[0;34m)\u001b[0m\u001b[0;34m\u001b[0m\u001b[0m\n\u001b[0m",
      "\u001b[0;31mIndexError\u001b[0m: index 20170103 is out of bounds for axis 1 with size 92"
     ]
    }
   ],
   "source": []
  },
  {
   "cell_type": "code",
   "execution_count": 52,
   "metadata": {
    "collapsed": false
   },
   "outputs": [
    {
     "name": "stdout",
     "output_type": "stream",
     "text": [
      "[[  4]\n",
      " [  1]\n",
      " [  6]\n",
      " [  1]\n",
      " [  1]\n",
      " [  4]\n",
      " [  2]\n",
      " [  7]\n",
      " [ 78]\n",
      " [  6]\n",
      " [ 56]\n",
      " [  1]\n",
      " [ 20]\n",
      " [ 44]\n",
      " [ 31]\n",
      " [ 55]\n",
      " [ 53]\n",
      " [ 10]\n",
      " [  3]\n",
      " [ 17]\n",
      " [ 25]\n",
      " [ 11]\n",
      " [  1]\n",
      " [ 12]\n",
      " [ 16]\n",
      " [  4]\n",
      " [ 85]\n",
      " [140]\n",
      " [  1]\n",
      " [  3]\n",
      " [  4]\n",
      " [ 89]\n",
      " [ 24]\n",
      " [ 46]\n",
      " [  1]\n",
      " [  1]\n",
      " [ 47]\n",
      " [  1]\n",
      " [ 13]\n",
      " [ 92]\n",
      " [  3]]\n",
      "              EventId\n",
      "PartitionKey         \n",
      "20170103            4\n",
      "20170104            1\n",
      "20170105            6\n",
      "20170106            1\n",
      "20170117            1\n",
      "20170119            4\n",
      "20170120            2\n",
      "20170123            7\n",
      "20170124           78\n",
      "20170125            6\n",
      "20170126           56\n",
      "20170127            1\n",
      "20170130           20\n",
      "20170131           44\n",
      "20170201           31\n",
      "20170202           55\n",
      "20170203           53\n",
      "20170206           10\n",
      "20170207            3\n",
      "20170208           17\n",
      "20170209           25\n",
      "20170210           11\n",
      "20170211            1\n",
      "20170213           12\n",
      "20170214           16\n",
      "20170215            4\n",
      "20170216           85\n",
      "20170217          140\n",
      "20170220            1\n",
      "20170221            3\n",
      "20170222            4\n",
      "20170224           89\n",
      "20170226           24\n",
      "20170227           46\n",
      "20170228            1\n",
      "20170301            1\n",
      "20170302           47\n",
      "20170303            1\n",
      "20170306           13\n",
      "20170307           92\n",
      "20170308            3\n"
     ]
    },
    {
     "data": {
      "image/png": "[encoded data removed]",
      "text/plain": [
       "<matplotlib.figure.Figure at 0x7f02b08b75d0>"
      ]
     },
     "metadata": {},
     "output_type": "display_data"
    }
   ],
   "source": [
    "from matplotlib import pyplot\n",
    "eventsByDay = events.groupby(['PartitionKey']).count()\n",
    "print(eventsByDay.as_matrix())\n",
    "print eventsByDay\n",
    "eventsByDay.plot()\n",
    "pyplot.show()\n"
   ]
  },
  {
   "cell_type": "code",
   "execution_count": null,
   "metadata": {
    "collapsed": true
   },
   "outputs": [],
   "source": []
  }
 ],
 "metadata": {
  "kernelspec": {
   "display_name": "Python [conda root]",
   "language": "python",
   "name": "conda-root-py"
  },
  "language_info": {
   "codemirror_mode": {
    "name": "ipython",
    "version": 2
   },
   "file_extension": ".py",
   "mimetype": "text/x-python",
   "name": "python",
   "nbconvert_exporter": "python",
   "pygments_lexer": "ipython2",
   "version": "2.7.13"
  }
 },
 "nbformat": 4,
 "nbformat_minor": 2
}
