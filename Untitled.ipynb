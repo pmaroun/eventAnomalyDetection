{
 "cells": [
  {
   "cell_type": "markdown",
   "metadata": {},
   "source": [
    "# Exploring Event Data for Anomaly Detection"
   ]
  },
  {
   "cell_type": "markdown",
   "metadata": {},
   "source": [
    "http://datascience.stackexchange.com/questions/6547/open-source-anomaly-detection-in-python\n",
    "\n",
    "http://machinelearningmastery.com/time-series-data-visualization-with-python/\n",
    "    "
   ]
  },
  {
   "cell_type": "code",
   "execution_count": 1,
   "metadata": {
    "collapsed": true
   },
   "outputs": [],
   "source": [
    "from __future__ import print_function\n",
    "\n",
    "from azure.storage.table import TableService, Entity\n",
    "import getpass\n",
    "import os\n",
    "import sys\n",
    "import csv\n",
    "import numpy as np\n",
    "import datetime as datetime"
   ]
  },
  {
   "cell_type": "code",
   "execution_count": 3,
   "metadata": {
    "collapsed": true
   },
   "outputs": [],
   "source": [
    "loadFromAzure = False\n",
    "\n",
    "accountName = 'serviceshubproduswlog'\n",
    "dateFloor = '20170101'\n",
    "eventId = '108' #registraion reminder = 108\n",
    "tableName = 'PremierHubInformation'\n",
    "\n",
    "#accountName = 'profileserviceproduswlog'\n",
    "#dateFloor = '20160101'\n",
    "#eventId = '89' #support contact\n",
    "#tableName = 'SironaInformation'\n",
    "\n",
    "current_dir = os.getcwd()\n",
    "\n",
    "fileName = current_dir + '/' + tableName \n",
    "\n",
    "if eventId:\n",
    "    fileName = fileName + '_eventId_' + eventId"
   ]
  },
  {
   "cell_type": "markdown",
   "metadata": {},
   "source": [
    "## Loads event data from Azure table storage.\n",
    "Event data is spanned across multiple tables based on severity.  Since we are only analyzing one event at a time, we \n",
    "must indicate the tableName and eventId"
   ]
  },
  {
   "cell_type": "code",
   "execution_count": 4,
   "metadata": {
    "collapsed": false
   },
   "outputs": [
    {
     "ename": "SyntaxError",
     "evalue": "invalid syntax (<ipython-input-4-793d8733c01a>, line 27)",
     "output_type": "error",
     "traceback": [
      "\u001b[0;36m  File \u001b[0;32m\"<ipython-input-4-793d8733c01a>\"\u001b[0;36m, line \u001b[0;32m27\u001b[0m\n\u001b[0;31m    print \"Saved \" + str(count) + \" lines to \" + fileName\u001b[0m\n\u001b[0m                 ^\u001b[0m\n\u001b[0;31mSyntaxError\u001b[0m\u001b[0;31m:\u001b[0m invalid syntax\n"
     ]
    }
   ],
   "source": [
    "def getEventIds(accountName, key, tableName, dateFloor, eventId):\n",
    "    \n",
    "    table_service = TableService(account_name=accountName, account_key=key)\n",
    "    \n",
    "    query = \"PartitionKey ge '\" + dateFloor + \"' and Level eq 8\"\n",
    "    \n",
    "    if eventId:\n",
    "        query = query + \"and EventId eq \" + eventId\n",
    "    \n",
    "    fileName = fileName  + '.csv'\n",
    "    #print fileName\n",
    "    #print query\n",
    "    entities=table_service.query_entities(tableName,\n",
    "                                          query, \n",
    "                                          select=\"PartitionKey, EventId\")\n",
    "    print(\"Starting to write\")\n",
    "    \n",
    "    count = 0\n",
    "    with open(fileName, 'w+') as csvfile:\n",
    "        eventWriter = csv.writer(csvfile, delimiter=' ',\n",
    "                        quotechar='|', quoting=csv.QUOTE_MINIMAL)\n",
    "        for entity in entities:\n",
    "            count+=1\n",
    "            eventWriter.writerow([entity.PartitionKey, entity.EventId.value])\n",
    "            print('.', end='')\n",
    "    \n",
    "    print \"Saved \" + str(count) + \" lines to \" + fileName \n"
   ]
  },
  {
   "cell_type": "code",
   "execution_count": 73,
   "metadata": {
    "collapsed": false
   },
   "outputs": [
    {
     "ename": "KeyboardInterrupt",
     "evalue": "",
     "output_type": "error",
     "traceback": [
      "\u001b[0;31m---------------------------------------------------------------------------\u001b[0m",
      "\u001b[0;31mKeyboardInterrupt\u001b[0m                         Traceback (most recent call last)",
      "\u001b[0;32m<ipython-input-73-2bbe67610df2>\u001b[0m in \u001b[0;36m<module>\u001b[0;34m()\u001b[0m\n\u001b[1;32m      1\u001b[0m \u001b[0;32mif\u001b[0m \u001b[0mloadFromAzure\u001b[0m\u001b[0;34m:\u001b[0m\u001b[0;34m\u001b[0m\u001b[0m\n\u001b[0;32m----> 2\u001b[0;31m     \u001b[0mgetEventIds\u001b[0m\u001b[0;34m(\u001b[0m\u001b[0maccountName\u001b[0m\u001b[0;34m,\u001b[0m \u001b[0mgetpass\u001b[0m\u001b[0;34m.\u001b[0m\u001b[0mgetpass\u001b[0m\u001b[0;34m(\u001b[0m\u001b[0;34m)\u001b[0m\u001b[0;34m,\u001b[0m \u001b[0mtableName\u001b[0m\u001b[0;34m,\u001b[0m \u001b[0mdateFloor\u001b[0m\u001b[0;34m,\u001b[0m \u001b[0meventId\u001b[0m\u001b[0;34m)\u001b[0m\u001b[0;34m\u001b[0m\u001b[0m\n\u001b[0m",
      "\u001b[0;32m/home/pmaroun/anaconda2/lib/python2.7/site-packages/ipykernel/kernelbase.pyc\u001b[0m in \u001b[0;36mgetpass\u001b[0;34m(self, prompt, stream)\u001b[0m\n\u001b[1;32m    675\u001b[0m             \u001b[0mself\u001b[0m\u001b[0;34m.\u001b[0m\u001b[0m_parent_ident\u001b[0m\u001b[0;34m,\u001b[0m\u001b[0;34m\u001b[0m\u001b[0m\n\u001b[1;32m    676\u001b[0m             \u001b[0mself\u001b[0m\u001b[0;34m.\u001b[0m\u001b[0m_parent_header\u001b[0m\u001b[0;34m,\u001b[0m\u001b[0;34m\u001b[0m\u001b[0m\n\u001b[0;32m--> 677\u001b[0;31m             \u001b[0mpassword\u001b[0m\u001b[0;34m=\u001b[0m\u001b[0mTrue\u001b[0m\u001b[0;34m,\u001b[0m\u001b[0;34m\u001b[0m\u001b[0m\n\u001b[0m\u001b[1;32m    678\u001b[0m         )\n\u001b[1;32m    679\u001b[0m \u001b[0;34m\u001b[0m\u001b[0m\n",
      "\u001b[0;32m/home/pmaroun/anaconda2/lib/python2.7/site-packages/ipykernel/kernelbase.pyc\u001b[0m in \u001b[0;36m_input_request\u001b[0;34m(self, prompt, ident, parent, password)\u001b[0m\n\u001b[1;32m    722\u001b[0m             \u001b[0;32mexcept\u001b[0m \u001b[0mKeyboardInterrupt\u001b[0m\u001b[0;34m:\u001b[0m\u001b[0;34m\u001b[0m\u001b[0m\n\u001b[1;32m    723\u001b[0m                 \u001b[0;31m# re-raise KeyboardInterrupt, to truncate traceback\u001b[0m\u001b[0;34m\u001b[0m\u001b[0;34m\u001b[0m\u001b[0m\n\u001b[0;32m--> 724\u001b[0;31m                 \u001b[0;32mraise\u001b[0m \u001b[0mKeyboardInterrupt\u001b[0m\u001b[0;34m\u001b[0m\u001b[0m\n\u001b[0m\u001b[1;32m    725\u001b[0m             \u001b[0;32melse\u001b[0m\u001b[0;34m:\u001b[0m\u001b[0;34m\u001b[0m\u001b[0m\n\u001b[1;32m    726\u001b[0m                 \u001b[0;32mbreak\u001b[0m\u001b[0;34m\u001b[0m\u001b[0m\n",
      "\u001b[0;31mKeyboardInterrupt\u001b[0m: "
     ]
    }
   ],
   "source": [
    "if loadFromAzure:\n",
    "    getEventIds(accountName, getpass.getpass(), tableName, dateFloor, eventId)\n"
   ]
  },
  {
   "cell_type": "markdown",
   "metadata": {},
   "source": [
    "## Take a look at the top few imported rows of data"
   ]
  },
  {
   "cell_type": "code",
   "execution_count": 5,
   "metadata": {
    "collapsed": false
   },
   "outputs": [
    {
     "name": "stdout",
     "output_type": "stream",
     "text": [
      "  PartitionKey EventId\n",
      "0     20160729     108\n",
      "1     20160806     108\n",
      "2     20160806     108\n",
      "3     20160806     108\n",
      "4     20160806     108\n"
     ]
    }
   ],
   "source": [
    "import pandas as pd\n",
    "from matplotlib import pyplot\n",
    "\n",
    "fileName = current_dir + \"/PremierHubInformation_eventId_108.csv\"\n",
    "\n",
    "events = pd.read_csv(fileName, delim_whitespace=True, dtype={'PartitionKey': object, 'EventId': object}, names = [\"PartitionKey\", \"EventId\"])\n",
    "print(events.head())"
   ]
  },
  {
   "cell_type": "markdown",
   "metadata": {},
   "source": [
    "## Generate date range for every day since first event"
   ]
  },
  {
   "cell_type": "code",
   "execution_count": 72,
   "metadata": {
    "collapsed": false
   },
   "outputs": [],
   "source": [
    "def daterange(start_date, end_date):\n",
    "    for n in range(int ((end_date - start_date).days)):\n",
    "        yield start_date + datetime.timedelta(n)\n",
    "\n",
    "end_date = datetime.date.today()\n",
    "start = events['PartitionKey'][0]\n",
    "start_date = datetime.date(int(start[0:4]), int(start[4:6]), int(start[6:8]))\n",
    "\n",
    "partition_range = []\n",
    "for single_date in daterange(start_date, end_date):\n",
    "    partition_range.append(single_date.strftime('%Y%m%d')) \n",
    "\n",
    "partition_array = np.zeros((len(partition_range), 2), dtype=object)\n",
    "\n",
    "eventsByDay = events.groupby(['PartitionKey'])\n",
    "\n",
    "partition_array[:,0] = partition_range[:]\n",
    "\n",
    "for x, y in eventsByDay.PartitionKey:\n",
    "    partition_array[np.where(partition_array==x)[0],1] = y.count()"
   ]
  },
  {
   "cell_type": "code",
   "execution_count": 89,
   "metadata": {
    "collapsed": false
   },
   "outputs": [
    {
     "ename": "ValueError",
     "evalue": "operands could not be broadcast together with shapes (253,) (10,) ",
     "output_type": "error",
     "traceback": [
      "\u001b[0;31m---------------------------------------------------------------------------\u001b[0m",
      "\u001b[0;31mValueError\u001b[0m                                Traceback (most recent call last)",
      "\u001b[0;32m<ipython-input-89-59863ef444c1>\u001b[0m in \u001b[0;36m<module>\u001b[0;34m()\u001b[0m\n\u001b[1;32m     10\u001b[0m \u001b[0;31m#print (type(selected_indexes))\u001b[0m\u001b[0;34m\u001b[0m\u001b[0;34m\u001b[0m\u001b[0m\n\u001b[1;32m     11\u001b[0m \u001b[0;31m#print (selected_indexes[0][0])\u001b[0m\u001b[0;34m\u001b[0m\u001b[0;34m\u001b[0m\u001b[0m\n\u001b[0;32m---> 12\u001b[0;31m \u001b[0mselected_index\u001b[0m \u001b[0;34m=\u001b[0m \u001b[0;34m(\u001b[0m\u001b[0;34m(\u001b[0m\u001b[0mnp\u001b[0m\u001b[0;34m.\u001b[0m\u001b[0mequal\u001b[0m\u001b[0;34m(\u001b[0m\u001b[0mpartition_array\u001b[0m\u001b[0;34m[\u001b[0m\u001b[0;34m:\u001b[0m\u001b[0;34m,\u001b[0m\u001b[0;36m0\u001b[0m\u001b[0;34m]\u001b[0m\u001b[0;34m,\u001b[0m \u001b[0meventsMonthlyPartition\u001b[0m\u001b[0;34m)\u001b[0m\u001b[0;34m)\u001b[0m\u001b[0;34m)\u001b[0m\u001b[0;34m\u001b[0m\u001b[0m\n\u001b[0m\u001b[1;32m     13\u001b[0m \u001b[0;32mprint\u001b[0m \u001b[0;34m(\u001b[0m\u001b[0mselected_index\u001b[0m\u001b[0;34m)\u001b[0m\u001b[0;34m\u001b[0m\u001b[0m\n",
      "\u001b[0;31mValueError\u001b[0m: operands could not be broadcast together with shapes (253,) (10,) "
     ]
    }
   ],
   "source": [
    "import datetime as datetime\n",
    "eventsMonthlyPartition = events['PartitionKey'].map(lambda x: datetime.datetime.strftime(datetime.datetime.strptime(x[:6], '%Y%m'), '%Y%m01'))\n",
    "eventsMonthlyPartition = eventsMonthlyPartition.unique()\n",
    "#print (eventsMonthlyPartition)\n",
    "#print (type(eventsMonthlyPartition))\n",
    "#index = events['PartitionKey'].map(lambda x: datetime.datetime.strftime(datetime.datetime.strptime(x[:6], '%Y%m'), '%Y%m'))\n",
    "#selected_indexes = (np.where(partition_array=='20160701'))\n",
    "#print(next(i for i in partition_array if i[0] == '20160901'))\n",
    "#print (selected_indexes)\n",
    "#print (type(selected_indexes))\n",
    "#print (selected_indexes[0][0])\n",
    "selected_index = ((np.equal(partition_array[:,0], eventsMonthlyPartition)))\n",
    "print (selected_index)\n"
   ]
  },
  {
   "cell_type": "code",
   "execution_count": 136,
   "metadata": {
    "collapsed": false
   },
   "outputs": [
    {
     "name": "stdout",
     "output_type": "stream",
     "text": [
      "[False False False  True False False False False False False False False\n",
      " False False False False False False False False False False False False\n",
      " False False False False False False False False False False  True False\n",
      " False False False False False False False False False False False False\n",
      " False False False False False False False False False False False False\n",
      " False False False False  True False False False False False False False\n",
      " False False False False False False False False False False False False\n",
      " False False False False False False False False False False False  True\n",
      " False False False False False False False False False False False False\n",
      " False False False False False False False False False False False False\n",
      " False False False False False  True False False False False False False\n",
      " False False False False False False False False False False False False\n",
      " False False False False False False False False False False False False\n",
      "  True False False False False False False False False False False False\n",
      " False False False False False False False False False False False False\n",
      " False False False False False False False  True False False False False\n",
      " False False False False False False False False False False False False\n",
      " False False False False False False False False False False False  True\n",
      " False False False False False False False False False False False False\n",
      " False False False False False False False False False False False False\n",
      " False False False False False False  True False False False False False\n",
      " False]\n",
      "[['20160801' 0]\n",
      " ['20160901' 1]\n",
      " ['20161001' 22]\n",
      " ['20161101' 2]\n",
      " ['20161201' 2]\n",
      " ['20170101' 9]\n",
      " ['20170201' 15]\n",
      " ['20170301' 21]\n",
      " ['20170401' 18]]\n",
      "[0 1 1 2 2 3 3 4 4 5 5 6 6 7 7 8 8]\n"
     ]
    },
    {
     "data": {
      "image/png": "[encoded data removed]",
      "text/plain": [
       "<matplotlib.figure.Figure at 0x7f7ad5efe1d0>"
      ]
     },
     "metadata": {},
     "output_type": "display_data"
    }
   ],
   "source": [
    "from matplotlib import pyplot as plt\n",
    "import re\n",
    "\n",
    "r = re.compile('.{6}01')\n",
    "vmatch = np.vectorize(lambda x:bool(r.match(x)))\n",
    "\n",
    "plt.plot(partition_array[:,1])\n",
    "plt.title('events by day')\n",
    "plt.ylabel('events')\n",
    "plt.xlabel('day')\n",
    "print(vmatch(partition_array[:,0]))\n",
    "print(partition_array[vmatch(partition_array[:,0])])\n",
    "\n",
    "print( np.where(partition_array[vmatch(partition_array[:,0])])[0])\n",
    "plt.grid(True)\n",
    "\n",
    "plt.show()\n"
   ]
  },
  {
   "cell_type": "code",
   "execution_count": null,
   "metadata": {
    "collapsed": true
   },
   "outputs": [],
   "source": []
  }
 ],
 "metadata": {
  "kernelspec": {
   "display_name": "Python [conda root]",
   "language": "python",
   "name": "conda-root-py"
  },
  "language_info": {
   "codemirror_mode": {
    "name": "ipython",
    "version": 2
   },
   "file_extension": ".py",
   "mimetype": "text/x-python",
   "name": "python",
   "nbconvert_exporter": "python",
   "pygments_lexer": "ipython2",
   "version": "2.7.13"
  }
 },
 "nbformat": 4,
 "nbformat_minor": 2
}
